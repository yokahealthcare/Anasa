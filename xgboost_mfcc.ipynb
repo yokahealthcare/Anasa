{
 "cells": [
  {
   "cell_type": "markdown",
   "metadata": {
    "id": "hx3LD4Dmew1A"
   },
   "source": [
    "# XGBoost Algorithm with MFCC Feature Extraction"
   ]
  },
  {
   "cell_type": "markdown",
   "metadata": {
    "id": "Vm6oarlGtoQ0"
   },
   "source": [
    "# Mount to G Drive"
   ]
  },
  {
   "cell_type": "code",
   "execution_count": null,
   "metadata": {
    "colab": {
     "base_uri": "https://localhost:8080/"
    },
    "id": "SkZeakECpoKb",
    "outputId": "c44c740a-9825-4d0e-b524-fe3bfb5a663d"
   },
   "outputs": [
    {
     "name": "stdout",
     "output_type": "stream",
     "text": [
      "Mounted at /content/drive/\n"
     ]
    }
   ],
   "source": [
    "from google.colab import drive\n",
    "drive.flush_and_unmount()\n",
    "drive.mount('/content/drive/', force_remount=True)"
   ]
  },
  {
   "cell_type": "markdown",
   "metadata": {
    "id": "-B_X4ItztYDV"
   },
   "source": [
    "# Import"
   ]
  },
  {
   "cell_type": "code",
   "execution_count": null,
   "metadata": {
    "id": "X5Qn_ejOtDYN"
   },
   "outputs": [],
   "source": [
    "import pandas as pd\n",
    "import pickle\n",
    "import numpy as np\n",
    "import seaborn as sn\n",
    "import xgboost as xgb\n",
    "\n",
    "import scipy\n",
    "\n",
    "import librosa\n",
    "import librosa.display\n",
    "\n",
    "from matplotlib import pyplot as plt\n",
    "from scipy.stats import linregress\n",
    "from sklearn import preprocessing\n",
    "from sklearn.decomposition import PCA\n",
    "from sklearn.discriminant_analysis import LinearDiscriminantAnalysis\n",
    "from sklearn.feature_selection import SelectKBest\n",
    "from sklearn.feature_selection import f_classif\n",
    "from sklearn.metrics import confusion_matrix, classification_report\n",
    "from sklearn.model_selection import train_test_split\n",
    "from sklearn.model_selection import GridSearchCV\n",
    "from sklearn.model_selection import StratifiedKFold\n",
    "from tqdm import tqdm\n"
   ]
  },
  {
   "cell_type": "code",
   "execution_count": null,
   "metadata": {
    "colab": {
     "base_uri": "https://localhost:8080/"
    },
    "id": "am6WZRT_t7mJ",
    "outputId": "0180c5bc-db23-4c2f-fdae-db9957bcea75"
   },
   "outputs": [
    {
     "name": "stdout",
     "output_type": "stream",
     "text": [
      "NVIDIA-SMI has failed because it couldn't communicate with the NVIDIA driver. Make sure that the latest NVIDIA driver is installed and running.\n",
      "\n"
     ]
    }
   ],
   "source": [
    "!nvidia-smi"
   ]
  },
  {
   "cell_type": "markdown",
   "metadata": {
    "id": "AlNT-yqGt26O"
   },
   "source": [
    "# Parameters"
   ]
  },
  {
   "cell_type": "code",
   "execution_count": null,
   "metadata": {
    "id": "fHSQJiUYuCjV"
   },
   "outputs": [],
   "source": [
    "window_size = 85\n",
    "work_dir = 'drive/My Drive/Datasets/deep_breath_mmwave/' # gdrive folder\n",
    "train_set = 'csv/train_dataset_window_size_'+str(window_size)+'_min_frame_length_85.csv' # train set relative to work_dir \n",
    "test_set = 'csv/test_dataset_window_size_'+str(window_size)+'_min_frame_length_85.csv' # test set relative to work_dir "
   ]
  },
  {
   "cell_type": "code",
   "execution_count": null,
   "metadata": {
    "id": "dRMqChnx1TCI"
   },
   "outputs": [],
   "source": [
    "class_to_index = {\n",
    "    'hold' : 0,\n",
    "    'normal' :1,\n",
    "    'deep' : 2,\n",
    "    'quick': 3,\n",
    "    'deep_quick': 4\n",
    "}"
   ]
  },
  {
   "cell_type": "markdown",
   "metadata": {
    "id": "UpwQBGXORydt"
   },
   "source": [
    "# Load Dataset\n"
   ]
  },
  {
   "cell_type": "code",
   "execution_count": null,
   "metadata": {
    "id": "hfQ0czJIx0NG"
   },
   "outputs": [],
   "source": [
    "train_df = pd.read_csv(work_dir+train_set)\n",
    "test_df = pd.read_csv(work_dir+test_set)"
   ]
  },
  {
   "cell_type": "markdown",
   "metadata": {
    "id": "H3oyCxkNSDhd"
   },
   "source": [
    "# Data Analysis and Preparation"
   ]
  },
  {
   "cell_type": "code",
   "execution_count": null,
   "metadata": {
    "colab": {
     "base_uri": "https://localhost:8080/"
    },
    "id": "5raK94V-OnKn",
    "outputId": "80162b2d-10a1-4282-aaca-f71a2cf18f72"
   },
   "outputs": [
    {
     "name": "stdout",
     "output_type": "stream",
     "text": [
      "train: (3200, 87)\n",
      "deep          640\n",
      "quick         640\n",
      "hold          640\n",
      "deep_quick    640\n",
      "normal        640\n",
      "Name: labels, dtype: int64\n",
      "\n",
      "test: (800, 87)\n",
      "hold          160\n",
      "deep_quick    160\n",
      "deep          160\n",
      "quick         160\n",
      "normal        160\n",
      "Name: labels, dtype: int64\n"
     ]
    }
   ],
   "source": [
    "print('train:',train_df.shape)\n",
    "print(train_df['labels'].value_counts())\n",
    "print()\n",
    "print('test:',test_df.shape)\n",
    "print(test_df['labels'].value_counts())"
   ]
  },
  {
   "cell_type": "markdown",
   "metadata": {
    "id": "qFWy6o0qeptZ"
   },
   "source": [
    "# MFCC Feature Extraction"
   ]
  },
  {
   "cell_type": "code",
   "execution_count": null,
   "metadata": {
    "id": "eZzycfroOq9G"
   },
   "outputs": [],
   "source": [
    "def extract_mfcc(df_, sr=60, n_mfcc=13):\n",
    "  df_mfcc = []\n",
    "  with tqdm(total=df_.shape[0]) as pbar: \n",
    "      for i,row in df_.iterrows():\n",
    "        pbar.update(1)\n",
    "        y = np.array(row[:-2]).astype(np.float32)\n",
    "        mfccs = librosa.feature.mfcc(y=y, sr=sr, n_mfcc=n_mfcc)\n",
    "        mfccs = np.squeeze(mfccs, axis=1)\n",
    "        df_mfcc.append([*mfccs, row[-2]])\n",
    "      df_mfcc = pd.DataFrame(df_mfcc, columns=[*np.arange(0,13),'labels'])\n",
    "  return df_mfcc\n"
   ]
  },
  {
   "cell_type": "code",
   "execution_count": null,
   "metadata": {
    "colab": {
     "base_uri": "https://localhost:8080/"
    },
    "id": "P7GYotOGOvRX",
    "outputId": "fb73f14c-788b-4cba-a1a5-0f16db4748a0"
   },
   "outputs": [
    {
     "name": "stderr",
     "output_type": "stream",
     "text": [
      "  0%|          | 0/3200 [00:00<?, ?it/s]/usr/local/lib/python3.7/dist-packages/librosa/core/spectrum.py:224: UserWarning: n_fft=2048 is too small for input signal of length=85\n",
      "  n_fft, y.shape[-1]\n",
      "100%|██████████| 3200/3200 [00:19<00:00, 163.06it/s]\n"
     ]
    }
   ],
   "source": [
    "train_df_mfcc = extract_mfcc(train_df)"
   ]
  },
  {
   "cell_type": "code",
   "execution_count": null,
   "metadata": {
    "colab": {
     "base_uri": "https://localhost:8080/",
     "height": 207
    },
    "id": "5kFc62JAO1ar",
    "outputId": "adc69400-323f-4ba9-d4a7-c279bbd35e5f"
   },
   "outputs": [
    {
     "data": {
      "text/html": [
       "\n",
       "  <div id=\"df-794ffa2f-8069-482e-b0e0-611b7cf701b6\">\n",
       "    <div class=\"colab-df-container\">\n",
       "      <div>\n",
       "<style scoped>\n",
       "    .dataframe tbody tr th:only-of-type {\n",
       "        vertical-align: middle;\n",
       "    }\n",
       "\n",
       "    .dataframe tbody tr th {\n",
       "        vertical-align: top;\n",
       "    }\n",
       "\n",
       "    .dataframe thead th {\n",
       "        text-align: right;\n",
       "    }\n",
       "</style>\n",
       "<table border=\"1\" class=\"dataframe\">\n",
       "  <thead>\n",
       "    <tr style=\"text-align: right;\">\n",
       "      <th></th>\n",
       "      <th>0</th>\n",
       "      <th>1</th>\n",
       "      <th>2</th>\n",
       "      <th>3</th>\n",
       "      <th>4</th>\n",
       "      <th>5</th>\n",
       "      <th>6</th>\n",
       "      <th>7</th>\n",
       "      <th>8</th>\n",
       "      <th>9</th>\n",
       "      <th>10</th>\n",
       "      <th>11</th>\n",
       "      <th>12</th>\n",
       "      <th>labels</th>\n",
       "    </tr>\n",
       "  </thead>\n",
       "  <tbody>\n",
       "    <tr>\n",
       "      <th>0</th>\n",
       "      <td>51.400898</td>\n",
       "      <td>184.093811</td>\n",
       "      <td>84.732697</td>\n",
       "      <td>33.559311</td>\n",
       "      <td>18.096462</td>\n",
       "      <td>15.069372</td>\n",
       "      <td>28.991951</td>\n",
       "      <td>10.938621</td>\n",
       "      <td>0.575912</td>\n",
       "      <td>3.981109</td>\n",
       "      <td>3.622868</td>\n",
       "      <td>-2.474621</td>\n",
       "      <td>-9.265508</td>\n",
       "      <td>deep</td>\n",
       "    </tr>\n",
       "    <tr>\n",
       "      <th>1</th>\n",
       "      <td>90.621468</td>\n",
       "      <td>137.907043</td>\n",
       "      <td>65.562416</td>\n",
       "      <td>42.800358</td>\n",
       "      <td>33.523911</td>\n",
       "      <td>32.409008</td>\n",
       "      <td>14.788023</td>\n",
       "      <td>15.936674</td>\n",
       "      <td>7.711355</td>\n",
       "      <td>8.106028</td>\n",
       "      <td>2.608246</td>\n",
       "      <td>2.464756</td>\n",
       "      <td>-4.315663</td>\n",
       "      <td>deep</td>\n",
       "    </tr>\n",
       "    <tr>\n",
       "      <th>2</th>\n",
       "      <td>128.784927</td>\n",
       "      <td>132.943634</td>\n",
       "      <td>67.249130</td>\n",
       "      <td>38.763115</td>\n",
       "      <td>20.312099</td>\n",
       "      <td>12.503655</td>\n",
       "      <td>16.321896</td>\n",
       "      <td>10.315442</td>\n",
       "      <td>12.639545</td>\n",
       "      <td>11.909327</td>\n",
       "      <td>6.927862</td>\n",
       "      <td>3.321593</td>\n",
       "      <td>4.094015</td>\n",
       "      <td>deep</td>\n",
       "    </tr>\n",
       "    <tr>\n",
       "      <th>3</th>\n",
       "      <td>59.191261</td>\n",
       "      <td>153.139084</td>\n",
       "      <td>85.338280</td>\n",
       "      <td>49.753796</td>\n",
       "      <td>25.523876</td>\n",
       "      <td>19.084799</td>\n",
       "      <td>8.279139</td>\n",
       "      <td>14.987810</td>\n",
       "      <td>9.275911</td>\n",
       "      <td>1.858274</td>\n",
       "      <td>-1.167313</td>\n",
       "      <td>-4.925354</td>\n",
       "      <td>-12.718996</td>\n",
       "      <td>deep</td>\n",
       "    </tr>\n",
       "    <tr>\n",
       "      <th>4</th>\n",
       "      <td>67.595009</td>\n",
       "      <td>146.096680</td>\n",
       "      <td>69.831131</td>\n",
       "      <td>38.885857</td>\n",
       "      <td>29.088377</td>\n",
       "      <td>30.840919</td>\n",
       "      <td>21.068012</td>\n",
       "      <td>21.941530</td>\n",
       "      <td>8.844509</td>\n",
       "      <td>-0.551090</td>\n",
       "      <td>-5.266858</td>\n",
       "      <td>-2.160193</td>\n",
       "      <td>0.022506</td>\n",
       "      <td>deep</td>\n",
       "    </tr>\n",
       "  </tbody>\n",
       "</table>\n",
       "</div>\n",
       "      <button class=\"colab-df-convert\" onclick=\"convertToInteractive('df-794ffa2f-8069-482e-b0e0-611b7cf701b6')\"\n",
       "              title=\"Convert this dataframe to an interactive table.\"\n",
       "              style=\"display:none;\">\n",
       "        \n",
       "  <svg xmlns=\"http://www.w3.org/2000/svg\" height=\"24px\"viewBox=\"0 0 24 24\"\n",
       "       width=\"24px\">\n",
       "    <path d=\"M0 0h24v24H0V0z\" fill=\"none\"/>\n",
       "    <path d=\"M18.56 5.44l.94 2.06.94-2.06 2.06-.94-2.06-.94-.94-2.06-.94 2.06-2.06.94zm-11 1L8.5 8.5l.94-2.06 2.06-.94-2.06-.94L8.5 2.5l-.94 2.06-2.06.94zm10 10l.94 2.06.94-2.06 2.06-.94-2.06-.94-.94-2.06-.94 2.06-2.06.94z\"/><path d=\"M17.41 7.96l-1.37-1.37c-.4-.4-.92-.59-1.43-.59-.52 0-1.04.2-1.43.59L10.3 9.45l-7.72 7.72c-.78.78-.78 2.05 0 2.83L4 21.41c.39.39.9.59 1.41.59.51 0 1.02-.2 1.41-.59l7.78-7.78 2.81-2.81c.8-.78.8-2.07 0-2.86zM5.41 20L4 18.59l7.72-7.72 1.47 1.35L5.41 20z\"/>\n",
       "  </svg>\n",
       "      </button>\n",
       "      \n",
       "  <style>\n",
       "    .colab-df-container {\n",
       "      display:flex;\n",
       "      flex-wrap:wrap;\n",
       "      gap: 12px;\n",
       "    }\n",
       "\n",
       "    .colab-df-convert {\n",
       "      background-color: #E8F0FE;\n",
       "      border: none;\n",
       "      border-radius: 50%;\n",
       "      cursor: pointer;\n",
       "      display: none;\n",
       "      fill: #1967D2;\n",
       "      height: 32px;\n",
       "      padding: 0 0 0 0;\n",
       "      width: 32px;\n",
       "    }\n",
       "\n",
       "    .colab-df-convert:hover {\n",
       "      background-color: #E2EBFA;\n",
       "      box-shadow: 0px 1px 2px rgba(60, 64, 67, 0.3), 0px 1px 3px 1px rgba(60, 64, 67, 0.15);\n",
       "      fill: #174EA6;\n",
       "    }\n",
       "\n",
       "    [theme=dark] .colab-df-convert {\n",
       "      background-color: #3B4455;\n",
       "      fill: #D2E3FC;\n",
       "    }\n",
       "\n",
       "    [theme=dark] .colab-df-convert:hover {\n",
       "      background-color: #434B5C;\n",
       "      box-shadow: 0px 1px 3px 1px rgba(0, 0, 0, 0.15);\n",
       "      filter: drop-shadow(0px 1px 2px rgba(0, 0, 0, 0.3));\n",
       "      fill: #FFFFFF;\n",
       "    }\n",
       "  </style>\n",
       "\n",
       "      <script>\n",
       "        const buttonEl =\n",
       "          document.querySelector('#df-794ffa2f-8069-482e-b0e0-611b7cf701b6 button.colab-df-convert');\n",
       "        buttonEl.style.display =\n",
       "          google.colab.kernel.accessAllowed ? 'block' : 'none';\n",
       "\n",
       "        async function convertToInteractive(key) {\n",
       "          const element = document.querySelector('#df-794ffa2f-8069-482e-b0e0-611b7cf701b6');\n",
       "          const dataTable =\n",
       "            await google.colab.kernel.invokeFunction('convertToInteractive',\n",
       "                                                     [key], {});\n",
       "          if (!dataTable) return;\n",
       "\n",
       "          const docLinkHtml = 'Like what you see? Visit the ' +\n",
       "            '<a target=\"_blank\" href=https://colab.research.google.com/notebooks/data_table.ipynb>data table notebook</a>'\n",
       "            + ' to learn more about interactive tables.';\n",
       "          element.innerHTML = '';\n",
       "          dataTable['output_type'] = 'display_data';\n",
       "          await google.colab.output.renderOutput(dataTable, element);\n",
       "          const docLink = document.createElement('div');\n",
       "          docLink.innerHTML = docLinkHtml;\n",
       "          element.appendChild(docLink);\n",
       "        }\n",
       "      </script>\n",
       "    </div>\n",
       "  </div>\n",
       "  "
      ],
      "text/plain": [
       "            0           1          2  ...        11         12  labels\n",
       "0   51.400898  184.093811  84.732697  ... -2.474621  -9.265508    deep\n",
       "1   90.621468  137.907043  65.562416  ...  2.464756  -4.315663    deep\n",
       "2  128.784927  132.943634  67.249130  ...  3.321593   4.094015    deep\n",
       "3   59.191261  153.139084  85.338280  ... -4.925354 -12.718996    deep\n",
       "4   67.595009  146.096680  69.831131  ... -2.160193   0.022506    deep\n",
       "\n",
       "[5 rows x 14 columns]"
      ]
     },
     "execution_count": 13,
     "metadata": {},
     "output_type": "execute_result"
    }
   ],
   "source": [
    "train_df_mfcc.head()"
   ]
  },
  {
   "cell_type": "markdown",
   "metadata": {
    "id": "_Vg5U6Keejk-"
   },
   "source": [
    "# Data Standarization"
   ]
  },
  {
   "cell_type": "code",
   "execution_count": null,
   "metadata": {
    "id": "ByIB3kPsO6V3"
   },
   "outputs": [],
   "source": [
    "train_x = train_df_mfcc.drop('labels', axis=1).values\n",
    "test_x = train_df_mfcc.drop('labels', axis=1).values\n",
    "\n",
    "standard_scaler = preprocessing.StandardScaler()\n",
    "standard_scaler = standard_scaler.fit(train_x) # fit only on training data\n",
    "\n",
    "# transform both train and test\n",
    "train_x_scaled = standard_scaler.transform(train_x) \n",
    "test_x_scaled = standard_scaler.transform(test_x)\n",
    "\n",
    "train_df_mfcc.loc[:,train_df_mfcc.columns[:-1]] = train_x_scaled\n",
    "train_df_mfcc.loc[:,train_df_mfcc.columns[:-1]] = test_x_scaled\n"
   ]
  },
  {
   "cell_type": "code",
   "execution_count": null,
   "metadata": {
    "id": "gzWbZTiVPeLU"
   },
   "outputs": [],
   "source": [
    "with open(work_dir+'standar_scaler_MFCC_'+train_set[4:-4]+'.pickle', 'wb') as o:\n",
    "  pickle.dump(standard_scaler, o, protocol=2.0)"
   ]
  },
  {
   "cell_type": "code",
   "execution_count": null,
   "metadata": {
    "id": "jVfPw8bWPhtq"
   },
   "outputs": [],
   "source": [
    "with open(work_dir+'standar_scaler_MFCC_'+train_set[4:-4]+'.pickle', 'rb') as o:\n",
    "  standard_scaler = pickle.load(o)"
   ]
  },
  {
   "cell_type": "code",
   "execution_count": null,
   "metadata": {
    "colab": {
     "base_uri": "https://localhost:8080/",
     "height": 345
    },
    "id": "cqsSPnzzPkSr",
    "outputId": "a5941552-5ca1-423b-e650-9299fdf2dc45"
   },
   "outputs": [
    {
     "data": {
      "text/html": [
       "\n",
       "  <div id=\"df-f42acfcd-08a3-40ac-9ced-1473c7e3dfab\">\n",
       "    <div class=\"colab-df-container\">\n",
       "      <div>\n",
       "<style scoped>\n",
       "    .dataframe tbody tr th:only-of-type {\n",
       "        vertical-align: middle;\n",
       "    }\n",
       "\n",
       "    .dataframe tbody tr th {\n",
       "        vertical-align: top;\n",
       "    }\n",
       "\n",
       "    .dataframe thead th {\n",
       "        text-align: right;\n",
       "    }\n",
       "</style>\n",
       "<table border=\"1\" class=\"dataframe\">\n",
       "  <thead>\n",
       "    <tr style=\"text-align: right;\">\n",
       "      <th></th>\n",
       "      <th>0</th>\n",
       "      <th>1</th>\n",
       "      <th>2</th>\n",
       "      <th>3</th>\n",
       "      <th>4</th>\n",
       "      <th>5</th>\n",
       "      <th>6</th>\n",
       "      <th>7</th>\n",
       "      <th>8</th>\n",
       "      <th>9</th>\n",
       "      <th>10</th>\n",
       "      <th>11</th>\n",
       "      <th>12</th>\n",
       "    </tr>\n",
       "  </thead>\n",
       "  <tbody>\n",
       "    <tr>\n",
       "      <th>count</th>\n",
       "      <td>3.200000e+03</td>\n",
       "      <td>3.200000e+03</td>\n",
       "      <td>3.200000e+03</td>\n",
       "      <td>3.200000e+03</td>\n",
       "      <td>3.200000e+03</td>\n",
       "      <td>3.200000e+03</td>\n",
       "      <td>3.200000e+03</td>\n",
       "      <td>3.200000e+03</td>\n",
       "      <td>3.200000e+03</td>\n",
       "      <td>3.200000e+03</td>\n",
       "      <td>3.200000e+03</td>\n",
       "      <td>3.200000e+03</td>\n",
       "      <td>3.200000e+03</td>\n",
       "    </tr>\n",
       "    <tr>\n",
       "      <th>mean</th>\n",
       "      <td>-7.837481e-17</td>\n",
       "      <td>-3.604755e-16</td>\n",
       "      <td>-7.008283e-17</td>\n",
       "      <td>4.543935e-16</td>\n",
       "      <td>-2.398082e-16</td>\n",
       "      <td>-2.762374e-16</td>\n",
       "      <td>2.360612e-16</td>\n",
       "      <td>3.683859e-16</td>\n",
       "      <td>2.068484e-16</td>\n",
       "      <td>1.780520e-16</td>\n",
       "      <td>1.453698e-17</td>\n",
       "      <td>-1.636885e-16</td>\n",
       "      <td>-8.190280e-17</td>\n",
       "    </tr>\n",
       "    <tr>\n",
       "      <th>std</th>\n",
       "      <td>1.000156e+00</td>\n",
       "      <td>1.000156e+00</td>\n",
       "      <td>1.000156e+00</td>\n",
       "      <td>1.000156e+00</td>\n",
       "      <td>1.000156e+00</td>\n",
       "      <td>1.000156e+00</td>\n",
       "      <td>1.000156e+00</td>\n",
       "      <td>1.000156e+00</td>\n",
       "      <td>1.000156e+00</td>\n",
       "      <td>1.000156e+00</td>\n",
       "      <td>1.000156e+00</td>\n",
       "      <td>1.000156e+00</td>\n",
       "      <td>1.000156e+00</td>\n",
       "    </tr>\n",
       "    <tr>\n",
       "      <th>min</th>\n",
       "      <td>-3.365055e+00</td>\n",
       "      <td>-3.453053e+00</td>\n",
       "      <td>-5.602278e+00</td>\n",
       "      <td>-4.600819e+00</td>\n",
       "      <td>-4.401108e+00</td>\n",
       "      <td>-3.494398e+00</td>\n",
       "      <td>-3.826812e+00</td>\n",
       "      <td>-3.861394e+00</td>\n",
       "      <td>-3.635276e+00</td>\n",
       "      <td>-3.887966e+00</td>\n",
       "      <td>-4.040682e+00</td>\n",
       "      <td>-4.228042e+00</td>\n",
       "      <td>-3.711726e+00</td>\n",
       "    </tr>\n",
       "    <tr>\n",
       "      <th>25%</th>\n",
       "      <td>-4.116338e-01</td>\n",
       "      <td>-7.415672e-01</td>\n",
       "      <td>-5.139667e-01</td>\n",
       "      <td>-6.506114e-01</td>\n",
       "      <td>-6.990516e-01</td>\n",
       "      <td>-6.641448e-01</td>\n",
       "      <td>-6.622481e-01</td>\n",
       "      <td>-6.429744e-01</td>\n",
       "      <td>-6.668788e-01</td>\n",
       "      <td>-6.315811e-01</td>\n",
       "      <td>-6.393335e-01</td>\n",
       "      <td>-6.280604e-01</td>\n",
       "      <td>-6.309503e-01</td>\n",
       "    </tr>\n",
       "    <tr>\n",
       "      <th>50%</th>\n",
       "      <td>2.374610e-01</td>\n",
       "      <td>-1.445520e-01</td>\n",
       "      <td>9.409762e-02</td>\n",
       "      <td>4.666778e-02</td>\n",
       "      <td>6.863097e-02</td>\n",
       "      <td>1.034450e-01</td>\n",
       "      <td>7.638232e-02</td>\n",
       "      <td>1.056661e-01</td>\n",
       "      <td>6.803962e-02</td>\n",
       "      <td>4.679627e-02</td>\n",
       "      <td>2.423606e-03</td>\n",
       "      <td>-5.719533e-02</td>\n",
       "      <td>-5.068832e-02</td>\n",
       "    </tr>\n",
       "    <tr>\n",
       "      <th>75%</th>\n",
       "      <td>7.420971e-01</td>\n",
       "      <td>5.876812e-01</td>\n",
       "      <td>6.579223e-01</td>\n",
       "      <td>7.044034e-01</td>\n",
       "      <td>7.339384e-01</td>\n",
       "      <td>7.078194e-01</td>\n",
       "      <td>7.254218e-01</td>\n",
       "      <td>7.078533e-01</td>\n",
       "      <td>6.783809e-01</td>\n",
       "      <td>6.474548e-01</td>\n",
       "      <td>6.425239e-01</td>\n",
       "      <td>5.491309e-01</td>\n",
       "      <td>5.594409e-01</td>\n",
       "    </tr>\n",
       "    <tr>\n",
       "      <th>max</th>\n",
       "      <td>1.661478e+00</td>\n",
       "      <td>3.817338e+00</td>\n",
       "      <td>2.861271e+00</td>\n",
       "      <td>3.389151e+00</td>\n",
       "      <td>3.577376e+00</td>\n",
       "      <td>4.025922e+00</td>\n",
       "      <td>3.028608e+00</td>\n",
       "      <td>4.739064e+00</td>\n",
       "      <td>3.104996e+00</td>\n",
       "      <td>3.831077e+00</td>\n",
       "      <td>5.161159e+00</td>\n",
       "      <td>4.818487e+00</td>\n",
       "      <td>5.346622e+00</td>\n",
       "    </tr>\n",
       "  </tbody>\n",
       "</table>\n",
       "</div>\n",
       "      <button class=\"colab-df-convert\" onclick=\"convertToInteractive('df-f42acfcd-08a3-40ac-9ced-1473c7e3dfab')\"\n",
       "              title=\"Convert this dataframe to an interactive table.\"\n",
       "              style=\"display:none;\">\n",
       "        \n",
       "  <svg xmlns=\"http://www.w3.org/2000/svg\" height=\"24px\"viewBox=\"0 0 24 24\"\n",
       "       width=\"24px\">\n",
       "    <path d=\"M0 0h24v24H0V0z\" fill=\"none\"/>\n",
       "    <path d=\"M18.56 5.44l.94 2.06.94-2.06 2.06-.94-2.06-.94-.94-2.06-.94 2.06-2.06.94zm-11 1L8.5 8.5l.94-2.06 2.06-.94-2.06-.94L8.5 2.5l-.94 2.06-2.06.94zm10 10l.94 2.06.94-2.06 2.06-.94-2.06-.94-.94-2.06-.94 2.06-2.06.94z\"/><path d=\"M17.41 7.96l-1.37-1.37c-.4-.4-.92-.59-1.43-.59-.52 0-1.04.2-1.43.59L10.3 9.45l-7.72 7.72c-.78.78-.78 2.05 0 2.83L4 21.41c.39.39.9.59 1.41.59.51 0 1.02-.2 1.41-.59l7.78-7.78 2.81-2.81c.8-.78.8-2.07 0-2.86zM5.41 20L4 18.59l7.72-7.72 1.47 1.35L5.41 20z\"/>\n",
       "  </svg>\n",
       "      </button>\n",
       "      \n",
       "  <style>\n",
       "    .colab-df-container {\n",
       "      display:flex;\n",
       "      flex-wrap:wrap;\n",
       "      gap: 12px;\n",
       "    }\n",
       "\n",
       "    .colab-df-convert {\n",
       "      background-color: #E8F0FE;\n",
       "      border: none;\n",
       "      border-radius: 50%;\n",
       "      cursor: pointer;\n",
       "      display: none;\n",
       "      fill: #1967D2;\n",
       "      height: 32px;\n",
       "      padding: 0 0 0 0;\n",
       "      width: 32px;\n",
       "    }\n",
       "\n",
       "    .colab-df-convert:hover {\n",
       "      background-color: #E2EBFA;\n",
       "      box-shadow: 0px 1px 2px rgba(60, 64, 67, 0.3), 0px 1px 3px 1px rgba(60, 64, 67, 0.15);\n",
       "      fill: #174EA6;\n",
       "    }\n",
       "\n",
       "    [theme=dark] .colab-df-convert {\n",
       "      background-color: #3B4455;\n",
       "      fill: #D2E3FC;\n",
       "    }\n",
       "\n",
       "    [theme=dark] .colab-df-convert:hover {\n",
       "      background-color: #434B5C;\n",
       "      box-shadow: 0px 1px 3px 1px rgba(0, 0, 0, 0.15);\n",
       "      filter: drop-shadow(0px 1px 2px rgba(0, 0, 0, 0.3));\n",
       "      fill: #FFFFFF;\n",
       "    }\n",
       "  </style>\n",
       "\n",
       "      <script>\n",
       "        const buttonEl =\n",
       "          document.querySelector('#df-f42acfcd-08a3-40ac-9ced-1473c7e3dfab button.colab-df-convert');\n",
       "        buttonEl.style.display =\n",
       "          google.colab.kernel.accessAllowed ? 'block' : 'none';\n",
       "\n",
       "        async function convertToInteractive(key) {\n",
       "          const element = document.querySelector('#df-f42acfcd-08a3-40ac-9ced-1473c7e3dfab');\n",
       "          const dataTable =\n",
       "            await google.colab.kernel.invokeFunction('convertToInteractive',\n",
       "                                                     [key], {});\n",
       "          if (!dataTable) return;\n",
       "\n",
       "          const docLinkHtml = 'Like what you see? Visit the ' +\n",
       "            '<a target=\"_blank\" href=https://colab.research.google.com/notebooks/data_table.ipynb>data table notebook</a>'\n",
       "            + ' to learn more about interactive tables.';\n",
       "          element.innerHTML = '';\n",
       "          dataTable['output_type'] = 'display_data';\n",
       "          await google.colab.output.renderOutput(dataTable, element);\n",
       "          const docLink = document.createElement('div');\n",
       "          docLink.innerHTML = docLinkHtml;\n",
       "          element.appendChild(docLink);\n",
       "        }\n",
       "      </script>\n",
       "    </div>\n",
       "  </div>\n",
       "  "
      ],
      "text/plain": [
       "                 0             1   ...            11            12\n",
       "count  3.200000e+03  3.200000e+03  ...  3.200000e+03  3.200000e+03\n",
       "mean  -7.837481e-17 -3.604755e-16  ... -1.636885e-16 -8.190280e-17\n",
       "std    1.000156e+00  1.000156e+00  ...  1.000156e+00  1.000156e+00\n",
       "min   -3.365055e+00 -3.453053e+00  ... -4.228042e+00 -3.711726e+00\n",
       "25%   -4.116338e-01 -7.415672e-01  ... -6.280604e-01 -6.309503e-01\n",
       "50%    2.374610e-01 -1.445520e-01  ... -5.719533e-02 -5.068832e-02\n",
       "75%    7.420971e-01  5.876812e-01  ...  5.491309e-01  5.594409e-01\n",
       "max    1.661478e+00  3.817338e+00  ...  4.818487e+00  5.346622e+00\n",
       "\n",
       "[8 rows x 13 columns]"
      ]
     },
     "execution_count": 17,
     "metadata": {},
     "output_type": "execute_result"
    }
   ],
   "source": [
    "train_df_mfcc.describe()"
   ]
  },
  {
   "cell_type": "markdown",
   "metadata": {
    "id": "jiARsrH9eeIh"
   },
   "source": [
    "# PCA & LDA"
   ]
  },
  {
   "cell_type": "code",
   "execution_count": null,
   "metadata": {
    "colab": {
     "base_uri": "https://localhost:8080/",
     "height": 672
    },
    "id": "WKojLV9bPsdb",
    "outputId": "78310169-f1be-44ec-f699-af78dda1c7d1"
   },
   "outputs": [
    {
     "data": {
      "image/png": "[encoded data removed]",
      "text/plain": [
       "<Figure size 576x432 with 1 Axes>"
      ]
     },
     "metadata": {
      "needs_background": "light"
     },
     "output_type": "display_data"
    },
    {
     "data": {
      "text/plain": [
       "<Figure size 432x288 with 0 Axes>"
      ]
     },
     "metadata": {},
     "output_type": "display_data"
    },
    {
     "data": {
      "image/png": "[encoded data removed]",
      "text/plain": [
       "<Figure size 432x288 with 1 Axes>"
      ]
     },
     "metadata": {
      "needs_background": "light"
     },
     "output_type": "display_data"
    }
   ],
   "source": [
    "sample_df = train_df_mfcc.sample(400, random_state=1)\n",
    "X = sample_df.drop(['labels'], axis=1)\n",
    "y = sample_df['labels'].map(class_to_index)\n",
    "target_names = np.array(list(class_to_index.keys()))\n",
    "\n",
    "pca = PCA(n_components=2)\n",
    "X_r = pca.fit(X).transform(X)\n",
    "\n",
    "lda = LinearDiscriminantAnalysis(n_components=2)\n",
    "X_r2 = lda.fit(X, y).transform(X)\n",
    "\n",
    "plt.figure(figsize=(8, 6))\n",
    "colors = ['navy', 'turquoise', 'darkorange', 'red', 'green']\n",
    "lw = 2\n",
    "\n",
    "for color, i, target_name in zip(colors, [0, 1, 2, 3, 4], target_names):\n",
    "    plt.scatter(X_r[y == i, 0], X_r[y == i, 1], color=color, alpha=.5, lw=lw,\n",
    "                label=target_name, s=10)\n",
    "    \n",
    "plt.legend(loc='best', shadow=False, scatterpoints=1)\n",
    "plt.title('PCA')\n",
    "plt.figure()\n",
    "\n",
    "plt.figure()\n",
    "for color, i, target_name in zip(colors, [0, 1, 2, 3, 4], target_names):\n",
    "    plt.scatter(X_r2[y == i, 0], X_r2[y == i, 1], alpha=.8, color=color,\n",
    "                label=target_name)\n",
    "plt.legend(loc='best', shadow=False, scatterpoints=1)\n",
    "plt.title('LDA')\n",
    "\n",
    "plt.show()"
   ]
  },
  {
   "cell_type": "markdown",
   "metadata": {
    "id": "NyyMo3d1eYDd"
   },
   "source": [
    "# Training"
   ]
  },
  {
   "cell_type": "code",
   "execution_count": null,
   "metadata": {
    "id": "BIFqPMD2PxQr"
   },
   "outputs": [],
   "source": [
    "X_train = train_df_mfcc.drop(['labels'], axis=1)\n",
    "y_train = train_df_mfcc['labels']\n",
    "X_test = train_df_mfcc.drop(['labels'], axis=1)\n",
    "y_test = train_df_mfcc['labels']\n",
    "\n",
    "# A parameter grid for XGBoost\n",
    "params = {\n",
    "        'n_estimators': [200, 300, 400],\n",
    "        'max_depth': [3, 4, 5],\n",
    "        'learning_rate' : [0.1, 0.01, 0.001]\n",
    "        }\n",
    "\n",
    "xgb_model = xgb.XGBClassifier(objective=\"multi:softmax\",\n",
    "                              n_jobs=-1,\n",
    "                              random_state=42)"
   ]
  },
  {
   "cell_type": "code",
   "execution_count": null,
   "metadata": {
    "colab": {
     "base_uri": "https://localhost:8080/"
    },
    "id": "aHkjMtHGP0UW",
    "outputId": "9f104ae6-cec1-4ef1-c953-0c1c0f28b096"
   },
   "outputs": [
    {
     "name": "stdout",
     "output_type": "stream",
     "text": [
      "Fitting 5 folds for each of 27 candidates, totalling 135 fits\n"
     ]
    }
   ],
   "source": [
    "folds = 5\n",
    "\n",
    "skf = StratifiedKFold(n_splits=folds, shuffle = True, random_state = 42)\n",
    "\n",
    "grid_search = GridSearchCV(estimator=xgb_model, param_grid=params, n_jobs=-1, cv=skf.split(X_train.values,y_train.values), verbose=3)\n",
    "\n",
    "grid_search.fit(X_train.values, y_train.values)\n",
    "\n",
    "best_model = grid_search.best_estimator_"
   ]
  },
  {
   "cell_type": "code",
   "execution_count": null,
   "metadata": {
    "id": "RHK9O-jzS-yZ"
   },
   "outputs": [],
   "source": [
    "with open(work_dir+'xgb_model_MFCC_'+train_set[4:-4]+'.pickle', 'wb') as o:\n",
    "  pickle.dump(best_model, o, protocol=2.0)"
   ]
  },
  {
   "cell_type": "code",
   "execution_count": null,
   "metadata": {
    "colab": {
     "base_uri": "https://localhost:8080/"
    },
    "id": "W5schTbu6Ge1",
    "outputId": "39e81c05-5bcc-4125-ce89-4830dd64e7a1"
   },
   "outputs": [
    {
     "data": {
      "text/plain": [
       "XGBClassifier(n_estimators=200, n_jobs=-1, objective='multi:softprob',\n",
       "              random_state=42)"
      ]
     },
     "execution_count": 26,
     "metadata": {},
     "output_type": "execute_result"
    }
   ],
   "source": [
    "grid_search.best_estimator_\n"
   ]
  },
  {
   "cell_type": "code",
   "execution_count": null,
   "metadata": {
    "colab": {
     "base_uri": "https://localhost:8080/"
    },
    "id": "_YJbv9NQ92-c",
    "outputId": "74be395c-5c50-48b6-a5aa-c1002a78011c"
   },
   "outputs": [
    {
     "data": {
      "text/plain": [
       "{'learning_rate': 0.1, 'max_depth': 3, 'n_estimators': 200}"
      ]
     },
     "execution_count": 25,
     "metadata": {},
     "output_type": "execute_result"
    }
   ],
   "source": [
    "grid_search.best_params_"
   ]
  },
  {
   "cell_type": "code",
   "execution_count": null,
   "metadata": {
    "colab": {
     "base_uri": "https://localhost:8080/"
    },
    "id": "mUgvJvmMTKB_",
    "outputId": "d8c0c310-0ac4-458a-9095-15fa04329a2f"
   },
   "outputs": [
    {
     "data": {
      "text/plain": [
       "85"
      ]
     },
     "execution_count": 23,
     "metadata": {},
     "output_type": "execute_result"
    }
   ],
   "source": [
    "window_size"
   ]
  },
  {
   "cell_type": "markdown",
   "metadata": {
    "id": "aVBt5A2WeQ11"
   },
   "source": [
    "# Evaluation"
   ]
  },
  {
   "cell_type": "code",
   "execution_count": null,
   "metadata": {
    "id": "utZwLge7TT4n"
   },
   "outputs": [],
   "source": [
    "def evaluate(test_set, best_model, standard_scaler, save_result=False):\n",
    "  # load dataset\n",
    "  test_df = pd.read_csv(work_dir+test_set)\n",
    "\n",
    "  # extract statistical features\n",
    "  train_df_mfcc = extract_mfcc(test_df)\n",
    "\n",
    "  # drop unused features\n",
    "  # test_df_stats = drop_stats_features(test_df_stats)\n",
    "  # print(\"features:\", test_df_stats.columns)\n",
    "\n",
    "  # standardize\n",
    "  test_x = train_df_mfcc.drop('labels', axis=1).values\n",
    "  test_x_scaled = standard_scaler.transform(test_x)\n",
    "  train_df_mfcc.loc[:,train_df_mfcc.columns[:-1]] = test_x_scaled\n",
    "\n",
    "  # separate feature and label\n",
    "  X_test = train_df_mfcc.drop(['labels'], axis=1)\n",
    "  y_test = train_df_mfcc['labels']\n",
    "\n",
    "  # predict\n",
    "  y_preds = best_model.predict(X_test.values)\n",
    "\n",
    "  if save_result:\n",
    "    test_df['predictions'] = y_preds\n",
    "    test_df.to_csv(work_dir+'prediction_result/'+'prediction_'+test_set[4:], index=False)\n",
    "\n",
    "  # display confusion matrix\n",
    "  print('\\n------------ Confusion Matrix ------------')\n",
    "  cm = confusion_matrix(y_test.values, y_preds, labels=list(class_to_index.keys()))\n",
    "  df_cm = pd.DataFrame(cm, index = list(class_to_index.keys()),\n",
    "                    columns = list(class_to_index.keys()))\n",
    "  plt.figure(figsize = (8,8))\n",
    "  sn.heatmap(df_cm, annot=True, cmap='Blues', fmt='g')\n",
    "  plt.show()\n",
    "\n",
    "  # display classification report\n",
    "  print('\\n------------ Classification Report ------------')\n",
    "  print(classification_report(y_test.values, y_preds, digits=5))"
   ]
  },
  {
   "cell_type": "markdown",
   "metadata": {
    "id": "HH0ZVPdFeFJk"
   },
   "source": [
    "# Window Size 85"
   ]
  },
  {
   "cell_type": "code",
   "execution_count": null,
   "metadata": {
    "colab": {
     "base_uri": "https://localhost:8080/",
     "height": 848
    },
    "id": "EnbTdCzATeGc",
    "outputId": "4c8f4ddd-3627-4516-859d-02ff59426071"
   },
   "outputs": [
    {
     "name": "stdout",
     "output_type": "stream",
     "text": [
      "{'base_score': 0.5, 'booster': 'gbtree', 'colsample_bylevel': 1, 'colsample_bynode': 1, 'colsample_bytree': 1, 'gamma': 0, 'learning_rate': 0.1, 'max_delta_step': 0, 'max_depth': 3, 'min_child_weight': 1, 'missing': nan, 'n_estimators': 200, 'objective': 'multi:softprob', 'reg_alpha': 0, 'reg_lambda': 1, 'scale_pos_weight': 1, 'seed': 42, 'subsample': 1, 'verbosity': 1}\n"
     ]
    },
    {
     "name": "stderr",
     "output_type": "stream",
     "text": [
      "  0%|          | 0/800 [00:00<?, ?it/s]/usr/local/lib/python3.7/dist-packages/librosa/core/spectrum.py:224: UserWarning: n_fft=2048 is too small for input signal of length=85\n",
      "  n_fft, y.shape[-1]\n",
      "100%|██████████| 800/800 [00:04<00:00, 166.07it/s]\n"
     ]
    },
    {
     "name": "stdout",
     "output_type": "stream",
     "text": [
      "\n",
      "------------ Confusion Matrix ------------\n"
     ]
    },
    {
     "data": {
      "image/png": "[encoded data removed]",
      "text/plain": [
       "<Figure size 576x576 with 2 Axes>"
      ]
     },
     "metadata": {
      "needs_background": "light",
      "tags": []
     },
     "output_type": "display_data"
    },
    {
     "name": "stdout",
     "output_type": "stream",
     "text": [
      "\n",
      "------------ Classification Report ------------\n",
      "              precision    recall  f1-score   support\n",
      "\n",
      "        deep    0.84409   0.98125   0.90751       160\n",
      "  deep_quick    0.88608   0.87500   0.88050       160\n",
      "        hold    0.95238   1.00000   0.97561       160\n",
      "      normal    0.80690   0.73125   0.76721       160\n",
      "       quick    0.87413   0.78125   0.82508       160\n",
      "\n",
      "    accuracy                        0.87375       800\n",
      "   macro avg    0.87271   0.87375   0.87118       800\n",
      "weighted avg    0.87271   0.87375   0.87118       800\n",
      "\n"
     ]
    }
   ],
   "source": [
    "train_set = 'csv/train_dataset_window_size_85_min_frame_length_85.csv'\n",
    "test_set = 'csv/test_dataset_window_size_85_min_frame_length_85.csv'\n",
    "with open(work_dir+'xgb_model_MFCC_'+train_set[4:-4]+'.pickle', 'rb') as o:\n",
    "  best_model = pickle.load(o)\n",
    "with open(work_dir+'standar_scaler_MFCC_'+train_set[4:-4]+'.pickle', 'rb') as o:\n",
    "  standard_scaler = pickle.load(o)\n",
    "\n",
    "print(best_model.get_xgb_params(),flush=True)\n",
    "\n",
    "evaluate(test_set, best_model, standard_scaler)"
   ]
  }
 ],
 "metadata": {
  "colab": {
   "provenance": [],
   "toc_visible": true
  },
  "kernelspec": {
   "display_name": "Python 3 (ipykernel)",
   "language": "python",
   "name": "python3"
  },
  "language_info": {
   "codemirror_mode": {
    "name": "ipython",
    "version": 3
   },
   "file_extension": ".py",
   "mimetype": "text/x-python",
   "name": "python",
   "nbconvert_exporter": "python",
   "pygments_lexer": "ipython3",
   "version": "3.9.13"
  }
 },
 "nbformat": 4,
 "nbformat_minor": 1
}
